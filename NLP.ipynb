{
 "cells": [
  {
   "cell_type": "code",
   "execution_count": 15,
   "metadata": {},
   "outputs": [
    {
     "name": "stderr",
     "output_type": "stream",
     "text": [
      "[nltk_data] Downloading package stopwords to C:\\Users\\Anay\n",
      "[nltk_data]     Malviya\\AppData\\Roaming\\nltk_data...\n",
      "[nltk_data]   Package stopwords is already up-to-date!\n",
      "[nltk_data] Downloading package punkt to C:\\Users\\Anay\n",
      "[nltk_data]     Malviya\\AppData\\Roaming\\nltk_data...\n",
      "[nltk_data]   Package punkt is already up-to-date!\n",
      "[nltk_data] Downloading package wordnet to C:\\Users\\Anay\n",
      "[nltk_data]     Malviya\\AppData\\Roaming\\nltk_data...\n",
      "[nltk_data]   Package wordnet is already up-to-date!\n"
     ]
    },
    {
     "name": "stdout",
     "output_type": "stream",
     "text": [
      "              published_date published_platform  rating    type  \\\n",
      "0  2024-03-12T14:41:14-04:00            Desktop       3  review   \n",
      "1  2024-03-11T19:39:13-04:00            Desktop       5  review   \n",
      "2  2024-03-11T12:20:23-04:00            Desktop       1  review   \n",
      "3  2024-03-11T07:12:27-04:00            Desktop       5  review   \n",
      "4  2024-03-10T05:34:18-04:00            Desktop       2  review   \n",
      "\n",
      "                                                text  \\\n",
      "0  We used this airline to go from Singapore to L...   \n",
      "1  The service on Singapore Airlines Suites Class...   \n",
      "2  Booked, paid and received email confirmation f...   \n",
      "3  Best airline in the world, seats, food, servic...   \n",
      "4  Premium Economy Seating on Singapore Airlines ...   \n",
      "\n",
      "                                               title  helpful_votes  \n",
      "0                                                 Ok              0  \n",
      "1  The service in Suites Class makes one feel lik...              0  \n",
      "2                         Don’t give them your money              0  \n",
      "3                          Best Airline in the World              0  \n",
      "4  Premium Economy Seating on Singapore Airlines ...              0  \n",
      "                                                text  \\\n",
      "0  We used this airline to go from Singapore to L...   \n",
      "1  The service on Singapore Airlines Suites Class...   \n",
      "2  Booked, paid and received email confirmation f...   \n",
      "3  Best airline in the world, seats, food, servic...   \n",
      "4  Premium Economy Seating on Singapore Airlines ...   \n",
      "\n",
      "                                        cleaned_text  \n",
      "0  used airline go singapore london heathrow issu...  \n",
      "1  service singapore airline suite class nothing ...  \n",
      "2  booked paid received email confirmation extra ...  \n",
      "3  best airline world seat food service brilliant...  \n",
      "4  premium economy seating singapore airline narr...  \n"
     ]
    }
   ],
   "source": [
    "# Import necessary libraries\n",
    "import pandas as pd\n",
    "import numpy as np\n",
    "import nltk\n",
    "from nltk.corpus import stopwords\n",
    "from nltk.tokenize import word_tokenize\n",
    "from nltk.stem import WordNetLemmatizer\n",
    "\n",
    "# Download necessary NLTK data files\n",
    "nltk.download('stopwords')\n",
    "nltk.download('punkt')\n",
    "nltk.download('wordnet')\n",
    "\n",
    "# Load the dataset\n",
    "df = pd.read_csv('singapore_airlines_reviews.csv')\n",
    "\n",
    "# Display the first few rows of the dataframe\n",
    "print(df.head())\n",
    "\n",
    "# Drop rows with missing values in the 'text' and 'rating' columns\n",
    "df.dropna(subset=['text', 'rating'], inplace=True)\n",
    "\n",
    "# Initialize stopwords and lemmatizer\n",
    "stop_words = set(stopwords.words('english'))\n",
    "lemmatizer = WordNetLemmatizer()\n",
    "\n",
    "# Define the preprocessing function\n",
    "def preprocess_text(text):\n",
    "    # Tokenize the text\n",
    "    tokens = word_tokenize(text.lower())\n",
    "    # Lemmatize and remove stopwords\n",
    "    tokens = [lemmatizer.lemmatize(word) for word in tokens if word.isalnum() and word not in stop_words]\n",
    "    # Join tokens back into a single string\n",
    "    return ' '.join(tokens)\n",
    "\n",
    "# Apply the preprocessing function to the 'text' column\n",
    "df['cleaned_text'] = df['text'].apply(preprocess_text)\n",
    "\n",
    "# Display the first few rows of the dataframe with the cleaned text\n",
    "print(df[['text', 'cleaned_text']].head())\n"
   ]
  },
  {
   "cell_type": "code",
   "execution_count": 16,
   "metadata": {},
   "outputs": [],
   "source": [
    "df.to_csv('file1.csv')"
   ]
  },
  {
   "cell_type": "code",
   "execution_count": 17,
   "metadata": {},
   "outputs": [
    {
     "name": "stdout",
     "output_type": "stream",
     "text": [
      "              published_date published_platform  rating    type  \\\n",
      "0  2024-03-12T14:41:14-04:00            Desktop       3  review   \n",
      "1  2024-03-11T19:39:13-04:00            Desktop       5  review   \n",
      "2  2024-03-11T12:20:23-04:00            Desktop       1  review   \n",
      "3  2024-03-11T07:12:27-04:00            Desktop       5  review   \n",
      "4  2024-03-10T05:34:18-04:00            Desktop       2  review   \n",
      "\n",
      "                                                text  \\\n",
      "0  We used this airline to go from Singapore to L...   \n",
      "1  The service on Singapore Airlines Suites Class...   \n",
      "2  Booked, paid and received email confirmation f...   \n",
      "3  Best airline in the world, seats, food, servic...   \n",
      "4  Premium Economy Seating on Singapore Airlines ...   \n",
      "\n",
      "                                               title  helpful_votes  \n",
      "0                                                 Ok              0  \n",
      "1  The service in Suites Class makes one feel lik...              0  \n",
      "2                         Don’t give them your money              0  \n",
      "3                          Best Airline in the World              0  \n",
      "4  Premium Economy Seating on Singapore Airlines ...              0  \n",
      "                                                text  \\\n",
      "0  We used this airline to go from Singapore to L...   \n",
      "1  The service on Singapore Airlines Suites Class...   \n",
      "2  Booked, paid and received email confirmation f...   \n",
      "3  Best airline in the world, seats, food, servic...   \n",
      "4  Premium Economy Seating on Singapore Airlines ...   \n",
      "\n",
      "                                        cleaned_text  \\\n",
      "0  used airline go singapore london heathrow issu...   \n",
      "1  service singapore airline suite class nothing ...   \n",
      "2  booked paid received email confirmation extra ...   \n",
      "3  best airline world seat food service brilliant...   \n",
      "4  premium economy seating singapore airline narr...   \n",
      "\n",
      "                                               title  \\\n",
      "0                                                 Ok   \n",
      "1  The service in Suites Class makes one feel lik...   \n",
      "2                         Don’t give them your money   \n",
      "3                          Best Airline in the World   \n",
      "4  Premium Economy Seating on Singapore Airlines ...   \n",
      "\n",
      "                                       cleaned_title  \n",
      "0                                                 ok  \n",
      "1         service suite class make one feel like vip  \n",
      "2                                         give money  \n",
      "3                                 best airline world  \n",
      "4  premium economy seating singapore airline wort...  \n"
     ]
    }
   ],
   "source": [
    "\n",
    "\n",
    "# Load the dataset\n",
    "df1 = pd.read_csv('singapore_airlines_reviews.csv')\n",
    "\n",
    "# Display the first few rows of the dataframe\n",
    "print(df1.head())\n",
    "\n",
    "# Drop rows with missing values in the 'text', 'title', and 'rating' columns\n",
    "df1.dropna(subset=['text', 'title', 'rating'], inplace=True)\n",
    "\n",
    "# Initialize stopwords and lemmatizer\n",
    "stop_words = set(stopwords.words('english'))\n",
    "lemmatizer = WordNetLemmatizer()\n",
    "\n",
    "# Define the preprocessing function\n",
    "def preprocess_text(text):\n",
    "    # Tokenize the text\n",
    "    tokens = word_tokenize(text.lower())\n",
    "    # Lemmatize and remove stopwords\n",
    "    tokens = [lemmatizer.lemmatize(word) for word in tokens if word.isalnum() and word not in stop_words]\n",
    "    # Join tokens back into a single string\n",
    "    return ' '.join(tokens)\n",
    "\n",
    "# Apply the preprocessing function to the 'text' and 'title' columns\n",
    "df1['cleaned_text'] = df1['text'].apply(preprocess_text)\n",
    "df1['cleaned_title'] = df1['title'].apply(preprocess_text)\n",
    "\n",
    "# Display the first few rows of the dataframe with the cleaned text and title\n",
    "print(df1[['text', 'cleaned_text', 'title', 'cleaned_title']].head())\n"
   ]
  },
  {
   "cell_type": "code",
   "execution_count": 18,
   "metadata": {},
   "outputs": [],
   "source": [
    "df1.to_csv('file1.csv')"
   ]
  },
  {
   "cell_type": "code",
   "execution_count": 19,
   "metadata": {},
   "outputs": [],
   "source": [
    "glove_path = 'glove.6B.100d.txt'  # Path to your GloVe file\n",
    "\n",
    "# Load GloVe embeddings into a dictionary\n",
    "glove_model = {}\n",
    "with open(glove_path, 'r', encoding='utf8') as f:\n",
    "    for line in f:\n",
    "        values = line.split()\n",
    "        word = values[0]\n",
    "        vector = np.asarray(values[1:], dtype='float32')\n",
    "        glove_model[word] = vector\n"
   ]
  },
  {
   "cell_type": "code",
   "execution_count": 20,
   "metadata": {},
   "outputs": [],
   "source": [
    "from tensorflow.keras.preprocessing.text import Tokenizer\n",
    "from tensorflow.keras.preprocessing.sequence import pad_sequences\n",
    "\n",
    "# Combine 'cleaned_text' and 'cleaned_title' for tokenization\n",
    "df1['combined_text'] = df1['cleaned_text'] + \" \" + df1['cleaned_title']\n",
    "\n",
    "# Tokenize the combined text\n",
    "tokenizer = Tokenizer()\n",
    "tokenizer.fit_on_texts(df1['combined_text'])\n",
    "word_index = tokenizer.word_index\n",
    "\n",
    "# Define a function to prepare text data\n",
    "def prepare_text(df, column, tokenizer, max_length):\n",
    "    sequences = tokenizer.texts_to_sequences(df[column])\n",
    "    padded_sequences = pad_sequences(sequences, maxlen=max_length, padding='post')\n",
    "    return padded_sequences\n",
    "\n",
    "# Prepare sequences for 'cleaned_text' and 'cleaned_title'\n",
    "max_length_text = 100  # Define appropriate max lengths\n",
    "max_length_title = 20\n",
    "\n",
    "text_sequences = prepare_text(df1, 'cleaned_text', tokenizer, max_length_text)\n",
    "title_sequences = prepare_text(df1, 'cleaned_title', tokenizer, max_length_title)\n"
   ]
  },
  {
   "cell_type": "code",
   "execution_count": 21,
   "metadata": {},
   "outputs": [],
   "source": [
    "embedding_dim = 100  # As we are using 'glove.6B.100d.txt'\n",
    "\n",
    "# Create the embedding matrix\n",
    "embedding_matrix = np.zeros((len(word_index) + 1, embedding_dim), dtype=np.float32)\n",
    "for word, i in word_index.items():\n",
    "    embedding_vector = glove_model.get(word)\n",
    "    if embedding_vector is not None:\n",
    "        embedding_matrix[i] = embedding_vector\n"
   ]
  },
  {
   "cell_type": "code",
   "execution_count": 22,
   "metadata": {},
   "outputs": [],
   "source": [
    "assert embedding_matrix.shape == (len(word_index) + 1, embedding_dim), \"Shape of embedding matrix is incorrect\""
   ]
  },
  {
   "cell_type": "code",
   "execution_count": 23,
   "metadata": {},
   "outputs": [
    {
     "name": "stdout",
     "output_type": "stream",
     "text": [
      "Type of embedding_matrix: <class 'numpy.ndarray'>\n",
      "Shape of embedding_matrix: (17591, 100)\n",
      "Type of word_index: <class 'dict'>\n",
      "Length of word_index: 17590\n",
      "Input dimensions: 17591 100\n",
      "Error creating embedding layer: Unrecognized keyword arguments passed to Embedding: {'weights': [array([[ 0.       ,  0.       ,  0.       , ...,  0.       ,  0.       ,\n",
      "         0.       ],\n",
      "       [ 0.1219   , -0.65646  ,  0.50855  , ..., -0.23317  , -0.013865 ,\n",
      "        -0.78455  ],\n",
      "       [-0.078351 , -0.45208  ,  0.11981  , ...,  0.23346  ,  0.21771  ,\n",
      "        -0.31866  ],\n",
      "       ...,\n",
      "       [ 0.53058  ,  0.13041  ,  0.51316  , ..., -0.073137 ,  0.17289  ,\n",
      "         1.0542   ],\n",
      "       [-0.58499  ,  0.51255  ,  0.0027212, ..., -0.14776  ,  0.27547  ,\n",
      "         0.20808  ],\n",
      "       [-1.1073   ,  0.0098013, -0.69088  , ..., -0.11754  , -0.7364   ,\n",
      "         0.3282   ]], dtype=float32)]}\n"
     ]
    }
   ],
   "source": [
    "print(\"Type of embedding_matrix:\", type(embedding_matrix))\n",
    "print(\"Shape of embedding_matrix:\", embedding_matrix.shape)\n",
    "print(\"Type of word_index:\", type(word_index))\n",
    "print(\"Length of word_index:\", len(word_index))\n",
    "\n",
    "# Check input dimensions\n",
    "print(\"Input dimensions:\", len(word_index) + 1, embedding_dim)\n",
    "\n",
    "# Attempt to create the embedding layer directly to see if it raises an error\n",
    "try:\n",
    "    test_embedding_layer = Embedding(\n",
    "        input_dim=len(word_index) + 1, \n",
    "        output_dim=embedding_dim, \n",
    "        weights=[embedding_matrix], \n",
    "        trainable=False\n",
    "    )\n",
    "    print(\"Embedding layer created successfully\")\n",
    "except Exception as e:\n",
    "    print(\"Error creating embedding layer:\", e)\n"
   ]
  },
  {
   "cell_type": "code",
   "execution_count": 24,
   "metadata": {},
   "outputs": [
    {
     "name": "stdout",
     "output_type": "stream",
     "text": [
      "Type of embedding_matrix: <class 'numpy.ndarray'>\n",
      "Shape of embedding_matrix: (3, 100)\n",
      "Dtype of embedding_matrix: float32\n",
      "Type of word_index: <class 'dict'>\n",
      "Length of word_index: 2\n",
      "Input dimensions: 3 100\n",
      "Embedding layers created successfully.\n"
     ]
    },
    {
     "data": {
      "text/html": [
       "<pre style=\"white-space:pre;overflow-x:auto;line-height:normal;font-family:Menlo,'DejaVu Sans Mono',consolas,'Courier New',monospace\"><span style=\"font-weight: bold\">Model: \"functional_3\"</span>\n",
       "</pre>\n"
      ],
      "text/plain": [
       "\u001b[1mModel: \"functional_3\"\u001b[0m\n"
      ]
     },
     "metadata": {},
     "output_type": "display_data"
    },
    {
     "data": {
      "text/html": [
       "<pre style=\"white-space:pre;overflow-x:auto;line-height:normal;font-family:Menlo,'DejaVu Sans Mono',consolas,'Courier New',monospace\">┏━━━━━━━━━━━━━━━━━━━━━┳━━━━━━━━━━━━━━━━━━━┳━━━━━━━━━━━━┳━━━━━━━━━━━━━━━━━━━┓\n",
       "┃<span style=\"font-weight: bold\"> Layer (type)        </span>┃<span style=\"font-weight: bold\"> Output Shape      </span>┃<span style=\"font-weight: bold\">    Param # </span>┃<span style=\"font-weight: bold\"> Connected to      </span>┃\n",
       "┡━━━━━━━━━━━━━━━━━━━━━╇━━━━━━━━━━━━━━━━━━━╇━━━━━━━━━━━━╇━━━━━━━━━━━━━━━━━━━┩\n",
       "│ text_input          │ (<span style=\"color: #00d7ff; text-decoration-color: #00d7ff\">None</span>, <span style=\"color: #00af00; text-decoration-color: #00af00\">100</span>)       │          <span style=\"color: #00af00; text-decoration-color: #00af00\">0</span> │ -                 │\n",
       "│ (<span style=\"color: #0087ff; text-decoration-color: #0087ff\">InputLayer</span>)        │                   │            │                   │\n",
       "├─────────────────────┼───────────────────┼────────────┼───────────────────┤\n",
       "│ title_input         │ (<span style=\"color: #00d7ff; text-decoration-color: #00d7ff\">None</span>, <span style=\"color: #00af00; text-decoration-color: #00af00\">20</span>)        │          <span style=\"color: #00af00; text-decoration-color: #00af00\">0</span> │ -                 │\n",
       "│ (<span style=\"color: #0087ff; text-decoration-color: #0087ff\">InputLayer</span>)        │                   │            │                   │\n",
       "├─────────────────────┼───────────────────┼────────────┼───────────────────┤\n",
       "│ embedding_6         │ (<span style=\"color: #00d7ff; text-decoration-color: #00d7ff\">None</span>, <span style=\"color: #00af00; text-decoration-color: #00af00\">100</span>, <span style=\"color: #00af00; text-decoration-color: #00af00\">100</span>)  │        <span style=\"color: #00af00; text-decoration-color: #00af00\">300</span> │ text_input[<span style=\"color: #00af00; text-decoration-color: #00af00\">0</span>][<span style=\"color: #00af00; text-decoration-color: #00af00\">0</span>]  │\n",
       "│ (<span style=\"color: #0087ff; text-decoration-color: #0087ff\">Embedding</span>)         │                   │            │                   │\n",
       "├─────────────────────┼───────────────────┼────────────┼───────────────────┤\n",
       "│ embedding_7         │ (<span style=\"color: #00d7ff; text-decoration-color: #00d7ff\">None</span>, <span style=\"color: #00af00; text-decoration-color: #00af00\">20</span>, <span style=\"color: #00af00; text-decoration-color: #00af00\">100</span>)   │        <span style=\"color: #00af00; text-decoration-color: #00af00\">300</span> │ title_input[<span style=\"color: #00af00; text-decoration-color: #00af00\">0</span>][<span style=\"color: #00af00; text-decoration-color: #00af00\">0</span>] │\n",
       "│ (<span style=\"color: #0087ff; text-decoration-color: #0087ff\">Embedding</span>)         │                   │            │                   │\n",
       "├─────────────────────┼───────────────────┼────────────┼───────────────────┤\n",
       "│ lstm_2 (<span style=\"color: #0087ff; text-decoration-color: #0087ff\">LSTM</span>)       │ (<span style=\"color: #00d7ff; text-decoration-color: #00d7ff\">None</span>, <span style=\"color: #00af00; text-decoration-color: #00af00\">100</span>)       │     <span style=\"color: #00af00; text-decoration-color: #00af00\">80,400</span> │ embedding_6[<span style=\"color: #00af00; text-decoration-color: #00af00\">0</span>][<span style=\"color: #00af00; text-decoration-color: #00af00\">0</span>] │\n",
       "├─────────────────────┼───────────────────┼────────────┼───────────────────┤\n",
       "│ lstm_3 (<span style=\"color: #0087ff; text-decoration-color: #0087ff\">LSTM</span>)       │ (<span style=\"color: #00d7ff; text-decoration-color: #00d7ff\">None</span>, <span style=\"color: #00af00; text-decoration-color: #00af00\">100</span>)       │     <span style=\"color: #00af00; text-decoration-color: #00af00\">80,400</span> │ embedding_7[<span style=\"color: #00af00; text-decoration-color: #00af00\">0</span>][<span style=\"color: #00af00; text-decoration-color: #00af00\">0</span>] │\n",
       "├─────────────────────┼───────────────────┼────────────┼───────────────────┤\n",
       "│ concatenate_1       │ (<span style=\"color: #00d7ff; text-decoration-color: #00d7ff\">None</span>, <span style=\"color: #00af00; text-decoration-color: #00af00\">200</span>)       │          <span style=\"color: #00af00; text-decoration-color: #00af00\">0</span> │ lstm_2[<span style=\"color: #00af00; text-decoration-color: #00af00\">0</span>][<span style=\"color: #00af00; text-decoration-color: #00af00\">0</span>],     │\n",
       "│ (<span style=\"color: #0087ff; text-decoration-color: #0087ff\">Concatenate</span>)       │                   │            │ lstm_3[<span style=\"color: #00af00; text-decoration-color: #00af00\">0</span>][<span style=\"color: #00af00; text-decoration-color: #00af00\">0</span>]      │\n",
       "├─────────────────────┼───────────────────┼────────────┼───────────────────┤\n",
       "│ dense_2 (<span style=\"color: #0087ff; text-decoration-color: #0087ff\">Dense</span>)     │ (<span style=\"color: #00d7ff; text-decoration-color: #00d7ff\">None</span>, <span style=\"color: #00af00; text-decoration-color: #00af00\">64</span>)        │     <span style=\"color: #00af00; text-decoration-color: #00af00\">12,864</span> │ concatenate_1[<span style=\"color: #00af00; text-decoration-color: #00af00\">0</span>]… │\n",
       "├─────────────────────┼───────────────────┼────────────┼───────────────────┤\n",
       "│ dense_3 (<span style=\"color: #0087ff; text-decoration-color: #0087ff\">Dense</span>)     │ (<span style=\"color: #00d7ff; text-decoration-color: #00d7ff\">None</span>, <span style=\"color: #00af00; text-decoration-color: #00af00\">1</span>)         │         <span style=\"color: #00af00; text-decoration-color: #00af00\">65</span> │ dense_2[<span style=\"color: #00af00; text-decoration-color: #00af00\">0</span>][<span style=\"color: #00af00; text-decoration-color: #00af00\">0</span>]     │\n",
       "└─────────────────────┴───────────────────┴────────────┴───────────────────┘\n",
       "</pre>\n"
      ],
      "text/plain": [
       "┏━━━━━━━━━━━━━━━━━━━━━┳━━━━━━━━━━━━━━━━━━━┳━━━━━━━━━━━━┳━━━━━━━━━━━━━━━━━━━┓\n",
       "┃\u001b[1m \u001b[0m\u001b[1mLayer (type)       \u001b[0m\u001b[1m \u001b[0m┃\u001b[1m \u001b[0m\u001b[1mOutput Shape     \u001b[0m\u001b[1m \u001b[0m┃\u001b[1m \u001b[0m\u001b[1m   Param #\u001b[0m\u001b[1m \u001b[0m┃\u001b[1m \u001b[0m\u001b[1mConnected to     \u001b[0m\u001b[1m \u001b[0m┃\n",
       "┡━━━━━━━━━━━━━━━━━━━━━╇━━━━━━━━━━━━━━━━━━━╇━━━━━━━━━━━━╇━━━━━━━━━━━━━━━━━━━┩\n",
       "│ text_input          │ (\u001b[38;5;45mNone\u001b[0m, \u001b[38;5;34m100\u001b[0m)       │          \u001b[38;5;34m0\u001b[0m │ -                 │\n",
       "│ (\u001b[38;5;33mInputLayer\u001b[0m)        │                   │            │                   │\n",
       "├─────────────────────┼───────────────────┼────────────┼───────────────────┤\n",
       "│ title_input         │ (\u001b[38;5;45mNone\u001b[0m, \u001b[38;5;34m20\u001b[0m)        │          \u001b[38;5;34m0\u001b[0m │ -                 │\n",
       "│ (\u001b[38;5;33mInputLayer\u001b[0m)        │                   │            │                   │\n",
       "├─────────────────────┼───────────────────┼────────────┼───────────────────┤\n",
       "│ embedding_6         │ (\u001b[38;5;45mNone\u001b[0m, \u001b[38;5;34m100\u001b[0m, \u001b[38;5;34m100\u001b[0m)  │        \u001b[38;5;34m300\u001b[0m │ text_input[\u001b[38;5;34m0\u001b[0m][\u001b[38;5;34m0\u001b[0m]  │\n",
       "│ (\u001b[38;5;33mEmbedding\u001b[0m)         │                   │            │                   │\n",
       "├─────────────────────┼───────────────────┼────────────┼───────────────────┤\n",
       "│ embedding_7         │ (\u001b[38;5;45mNone\u001b[0m, \u001b[38;5;34m20\u001b[0m, \u001b[38;5;34m100\u001b[0m)   │        \u001b[38;5;34m300\u001b[0m │ title_input[\u001b[38;5;34m0\u001b[0m][\u001b[38;5;34m0\u001b[0m] │\n",
       "│ (\u001b[38;5;33mEmbedding\u001b[0m)         │                   │            │                   │\n",
       "├─────────────────────┼───────────────────┼────────────┼───────────────────┤\n",
       "│ lstm_2 (\u001b[38;5;33mLSTM\u001b[0m)       │ (\u001b[38;5;45mNone\u001b[0m, \u001b[38;5;34m100\u001b[0m)       │     \u001b[38;5;34m80,400\u001b[0m │ embedding_6[\u001b[38;5;34m0\u001b[0m][\u001b[38;5;34m0\u001b[0m] │\n",
       "├─────────────────────┼───────────────────┼────────────┼───────────────────┤\n",
       "│ lstm_3 (\u001b[38;5;33mLSTM\u001b[0m)       │ (\u001b[38;5;45mNone\u001b[0m, \u001b[38;5;34m100\u001b[0m)       │     \u001b[38;5;34m80,400\u001b[0m │ embedding_7[\u001b[38;5;34m0\u001b[0m][\u001b[38;5;34m0\u001b[0m] │\n",
       "├─────────────────────┼───────────────────┼────────────┼───────────────────┤\n",
       "│ concatenate_1       │ (\u001b[38;5;45mNone\u001b[0m, \u001b[38;5;34m200\u001b[0m)       │          \u001b[38;5;34m0\u001b[0m │ lstm_2[\u001b[38;5;34m0\u001b[0m][\u001b[38;5;34m0\u001b[0m],     │\n",
       "│ (\u001b[38;5;33mConcatenate\u001b[0m)       │                   │            │ lstm_3[\u001b[38;5;34m0\u001b[0m][\u001b[38;5;34m0\u001b[0m]      │\n",
       "├─────────────────────┼───────────────────┼────────────┼───────────────────┤\n",
       "│ dense_2 (\u001b[38;5;33mDense\u001b[0m)     │ (\u001b[38;5;45mNone\u001b[0m, \u001b[38;5;34m64\u001b[0m)        │     \u001b[38;5;34m12,864\u001b[0m │ concatenate_1[\u001b[38;5;34m0\u001b[0m]… │\n",
       "├─────────────────────┼───────────────────┼────────────┼───────────────────┤\n",
       "│ dense_3 (\u001b[38;5;33mDense\u001b[0m)     │ (\u001b[38;5;45mNone\u001b[0m, \u001b[38;5;34m1\u001b[0m)         │         \u001b[38;5;34m65\u001b[0m │ dense_2[\u001b[38;5;34m0\u001b[0m][\u001b[38;5;34m0\u001b[0m]     │\n",
       "└─────────────────────┴───────────────────┴────────────┴───────────────────┘\n"
      ]
     },
     "metadata": {},
     "output_type": "display_data"
    },
    {
     "data": {
      "text/html": [
       "<pre style=\"white-space:pre;overflow-x:auto;line-height:normal;font-family:Menlo,'DejaVu Sans Mono',consolas,'Courier New',monospace\"><span style=\"font-weight: bold\"> Total params: </span><span style=\"color: #00af00; text-decoration-color: #00af00\">174,329</span> (680.97 KB)\n",
       "</pre>\n"
      ],
      "text/plain": [
       "\u001b[1m Total params: \u001b[0m\u001b[38;5;34m174,329\u001b[0m (680.97 KB)\n"
      ]
     },
     "metadata": {},
     "output_type": "display_data"
    },
    {
     "data": {
      "text/html": [
       "<pre style=\"white-space:pre;overflow-x:auto;line-height:normal;font-family:Menlo,'DejaVu Sans Mono',consolas,'Courier New',monospace\"><span style=\"font-weight: bold\"> Trainable params: </span><span style=\"color: #00af00; text-decoration-color: #00af00\">173,729</span> (678.63 KB)\n",
       "</pre>\n"
      ],
      "text/plain": [
       "\u001b[1m Trainable params: \u001b[0m\u001b[38;5;34m173,729\u001b[0m (678.63 KB)\n"
      ]
     },
     "metadata": {},
     "output_type": "display_data"
    },
    {
     "data": {
      "text/html": [
       "<pre style=\"white-space:pre;overflow-x:auto;line-height:normal;font-family:Menlo,'DejaVu Sans Mono',consolas,'Courier New',monospace\"><span style=\"font-weight: bold\"> Non-trainable params: </span><span style=\"color: #00af00; text-decoration-color: #00af00\">600</span> (2.34 KB)\n",
       "</pre>\n"
      ],
      "text/plain": [
       "\u001b[1m Non-trainable params: \u001b[0m\u001b[38;5;34m600\u001b[0m (2.34 KB)\n"
      ]
     },
     "metadata": {},
     "output_type": "display_data"
    }
   ],
   "source": [
    "from tensorflow.keras.models import Model\n",
    "from tensorflow.keras.layers import Input, Embedding, LSTM, Dense, Concatenate\n",
    "from tensorflow.keras.initializers import Constant\n",
    "import numpy as np\n",
    "\n",
    "# Example configurations\n",
    "max_length_text = 100\n",
    "max_length_title = 20\n",
    "embedding_dim = 100\n",
    "word_index = {\"example\": 1, \"word\": 2}  # Example word index\n",
    "embedding_matrix = np.random.rand(len(word_index) + 1, embedding_dim).astype(np.float32)  # Example embedding matrix\n",
    "\n",
    "# Debugging information\n",
    "print(\"Type of embedding_matrix:\", type(embedding_matrix))\n",
    "print(\"Shape of embedding_matrix:\", embedding_matrix.shape)\n",
    "print(\"Dtype of embedding_matrix:\", embedding_matrix.dtype)\n",
    "print(\"Type of word_index:\", type(word_index))\n",
    "print(\"Length of word_index:\", len(word_index))\n",
    "print(\"Input dimensions:\", len(word_index) + 1, embedding_dim)\n",
    "\n",
    "# Check if embedding_matrix is correctly shaped\n",
    "assert embedding_matrix.shape == (len(word_index) + 1, embedding_dim), \"Embedding matrix shape is incorrect.\"\n",
    "\n",
    "# Check if embedding_matrix is of type np.float32\n",
    "assert embedding_matrix.dtype == np.float32, \"Embedding matrix dtype is incorrect.\"\n",
    "\n",
    "# Define the input layers\n",
    "text_input = Input(shape=(max_length_text,), name='text_input')\n",
    "title_input = Input(shape=(max_length_title,), name='title_input')\n",
    "\n",
    "# Define the embedding layers using the embedding matrix\n",
    "try:\n",
    "    embedding_layer_text = Embedding(\n",
    "        input_dim=len(word_index) + 1, \n",
    "        output_dim=embedding_dim, \n",
    "        embeddings_initializer=Constant(embedding_matrix), \n",
    "        trainable=False\n",
    "    )\n",
    "    embedding_layer_title = Embedding(\n",
    "        input_dim=len(word_index) + 1, \n",
    "        output_dim=embedding_dim, \n",
    "        embeddings_initializer=Constant(embedding_matrix), \n",
    "        trainable=False\n",
    "    )\n",
    "    print(\"Embedding layers created successfully.\")\n",
    "except ValueError as e:\n",
    "    print(\"Error creating embedding layer:\", e)\n",
    "\n",
    "# Embed the inputs\n",
    "text_embedding = embedding_layer_text(text_input)\n",
    "title_embedding = embedding_layer_title(title_input)\n",
    "\n",
    "# Define LSTM layers\n",
    "text_lstm = LSTM(100)(text_embedding)\n",
    "title_lstm = LSTM(100)(title_embedding)\n",
    "\n",
    "# Concatenate the LSTM outputs\n",
    "concat = Concatenate()([text_lstm, title_lstm])\n",
    "\n",
    "# Add a dense layer and output layer\n",
    "dense = Dense(64, activation='relu')(concat)\n",
    "output = Dense(1, activation='linear')(dense)  # Assuming regression for ratings\n",
    "\n",
    "# Create the model\n",
    "model = Model(inputs=[text_input, title_input], outputs=output)\n",
    "model.compile(optimizer='adam', loss='mse', metrics=['mae'])\n",
    "\n",
    "# Summary of the model\n",
    "model.summary()\n"
   ]
  },
  {
   "cell_type": "code",
   "execution_count": 28,
   "metadata": {},
   "outputs": [
    {
     "name": "stdout",
     "output_type": "stream",
     "text": [
      "Epoch 1/50\n",
      "\u001b[1m250/250\u001b[0m \u001b[32m━━━━━━━━━━━━━━━━━━━━\u001b[0m\u001b[37m\u001b[0m \u001b[1m9s\u001b[0m 36ms/step - loss: 1.8503 - mae: 1.1157 - val_loss: 1.3788 - val_mae: 0.9843\n",
      "Epoch 2/50\n",
      "\u001b[1m250/250\u001b[0m \u001b[32m━━━━━━━━━━━━━━━━━━━━\u001b[0m\u001b[37m\u001b[0m \u001b[1m8s\u001b[0m 32ms/step - loss: 1.8440 - mae: 1.1095 - val_loss: 1.3121 - val_mae: 0.9418\n",
      "Epoch 3/50\n",
      "\u001b[1m250/250\u001b[0m \u001b[32m━━━━━━━━━━━━━━━━━━━━\u001b[0m\u001b[37m\u001b[0m \u001b[1m8s\u001b[0m 32ms/step - loss: 1.8401 - mae: 1.1040 - val_loss: 1.3736 - val_mae: 0.9839\n",
      "Epoch 4/50\n",
      "\u001b[1m250/250\u001b[0m \u001b[32m━━━━━━━━━━━━━━━━━━━━\u001b[0m\u001b[37m\u001b[0m \u001b[1m8s\u001b[0m 34ms/step - loss: 1.8560 - mae: 1.1211 - val_loss: 1.3245 - val_mae: 0.9536\n",
      "Epoch 5/50\n",
      "\u001b[1m250/250\u001b[0m \u001b[32m━━━━━━━━━━━━━━━━━━━━\u001b[0m\u001b[37m\u001b[0m \u001b[1m8s\u001b[0m 34ms/step - loss: 1.8740 - mae: 1.1163 - val_loss: 1.4094 - val_mae: 1.0030\n",
      "Epoch 6/50\n",
      "\u001b[1m250/250\u001b[0m \u001b[32m━━━━━━━━━━━━━━━━━━━━\u001b[0m\u001b[37m\u001b[0m \u001b[1m9s\u001b[0m 36ms/step - loss: 1.8623 - mae: 1.1191 - val_loss: 1.2825 - val_mae: 0.9271\n",
      "Epoch 7/50\n",
      "\u001b[1m250/250\u001b[0m \u001b[32m━━━━━━━━━━━━━━━━━━━━\u001b[0m\u001b[37m\u001b[0m \u001b[1m9s\u001b[0m 35ms/step - loss: 1.8648 - mae: 1.1198 - val_loss: 1.2730 - val_mae: 0.8947\n",
      "Epoch 8/50\n",
      "\u001b[1m250/250\u001b[0m \u001b[32m━━━━━━━━━━━━━━━━━━━━\u001b[0m\u001b[37m\u001b[0m \u001b[1m9s\u001b[0m 36ms/step - loss: 1.8396 - mae: 1.1031 - val_loss: 1.2870 - val_mae: 0.9142\n",
      "Epoch 9/50\n",
      "\u001b[1m250/250\u001b[0m \u001b[32m━━━━━━━━━━━━━━━━━━━━\u001b[0m\u001b[37m\u001b[0m \u001b[1m9s\u001b[0m 34ms/step - loss: 1.8498 - mae: 1.1023 - val_loss: 1.3098 - val_mae: 0.9341\n",
      "Epoch 10/50\n",
      "\u001b[1m250/250\u001b[0m \u001b[32m━━━━━━━━━━━━━━━━━━━━\u001b[0m\u001b[37m\u001b[0m \u001b[1m9s\u001b[0m 35ms/step - loss: 1.8244 - mae: 1.1027 - val_loss: 1.2419 - val_mae: 0.8554\n",
      "Epoch 11/50\n",
      "\u001b[1m250/250\u001b[0m \u001b[32m━━━━━━━━━━━━━━━━━━━━\u001b[0m\u001b[37m\u001b[0m \u001b[1m9s\u001b[0m 35ms/step - loss: 1.8606 - mae: 1.1083 - val_loss: 1.2755 - val_mae: 0.9185\n",
      "Epoch 12/50\n",
      "\u001b[1m250/250\u001b[0m \u001b[32m━━━━━━━━━━━━━━━━━━━━\u001b[0m\u001b[37m\u001b[0m \u001b[1m9s\u001b[0m 35ms/step - loss: 1.8225 - mae: 1.1044 - val_loss: 1.2892 - val_mae: 0.9158\n",
      "Epoch 13/50\n",
      "\u001b[1m250/250\u001b[0m \u001b[32m━━━━━━━━━━━━━━━━━━━━\u001b[0m\u001b[37m\u001b[0m \u001b[1m9s\u001b[0m 35ms/step - loss: 1.7926 - mae: 1.0885 - val_loss: 1.3860 - val_mae: 0.9883\n",
      "Epoch 14/50\n",
      "\u001b[1m250/250\u001b[0m \u001b[32m━━━━━━━━━━━━━━━━━━━━\u001b[0m\u001b[37m\u001b[0m \u001b[1m10s\u001b[0m 38ms/step - loss: 1.8268 - mae: 1.1037 - val_loss: 1.3927 - val_mae: 0.9914\n",
      "Epoch 15/50\n",
      "\u001b[1m250/250\u001b[0m \u001b[32m━━━━━━━━━━━━━━━━━━━━\u001b[0m\u001b[37m\u001b[0m \u001b[1m9s\u001b[0m 36ms/step - loss: 1.8314 - mae: 1.1158 - val_loss: 1.4070 - val_mae: 0.9989\n",
      "Epoch 16/50\n",
      "\u001b[1m250/250\u001b[0m \u001b[32m━━━━━━━━━━━━━━━━━━━━\u001b[0m\u001b[37m\u001b[0m \u001b[1m9s\u001b[0m 38ms/step - loss: 1.8682 - mae: 1.1252 - val_loss: 1.3182 - val_mae: 0.9448\n",
      "Epoch 17/50\n",
      "\u001b[1m250/250\u001b[0m \u001b[32m━━━━━━━━━━━━━━━━━━━━\u001b[0m\u001b[37m\u001b[0m \u001b[1m12s\u001b[0m 48ms/step - loss: 1.8573 - mae: 1.1156 - val_loss: 1.3496 - val_mae: 0.9677\n",
      "Epoch 18/50\n",
      "\u001b[1m250/250\u001b[0m \u001b[32m━━━━━━━━━━━━━━━━━━━━\u001b[0m\u001b[37m\u001b[0m \u001b[1m14s\u001b[0m 55ms/step - loss: 1.8152 - mae: 1.1010 - val_loss: 1.3232 - val_mae: 0.9509\n",
      "Epoch 19/50\n",
      "\u001b[1m250/250\u001b[0m \u001b[32m━━━━━━━━━━━━━━━━━━━━\u001b[0m\u001b[37m\u001b[0m \u001b[1m16s\u001b[0m 64ms/step - loss: 1.8677 - mae: 1.1202 - val_loss: 1.4253 - val_mae: 1.0048\n",
      "Epoch 20/50\n",
      "\u001b[1m250/250\u001b[0m \u001b[32m━━━━━━━━━━━━━━━━━━━━\u001b[0m\u001b[37m\u001b[0m \u001b[1m14s\u001b[0m 54ms/step - loss: 1.8555 - mae: 1.1155 - val_loss: 1.3954 - val_mae: 0.9859\n",
      "Epoch 21/50\n",
      "\u001b[1m250/250\u001b[0m \u001b[32m━━━━━━━━━━━━━━━━━━━━\u001b[0m\u001b[37m\u001b[0m \u001b[1m10s\u001b[0m 41ms/step - loss: 1.8043 - mae: 1.0946 - val_loss: 1.2681 - val_mae: 0.9064\n",
      "Epoch 22/50\n",
      "\u001b[1m250/250\u001b[0m \u001b[32m━━━━━━━━━━━━━━━━━━━━\u001b[0m\u001b[37m\u001b[0m \u001b[1m10s\u001b[0m 39ms/step - loss: 1.8618 - mae: 1.1177 - val_loss: 1.3118 - val_mae: 0.9400\n",
      "Epoch 23/50\n",
      "\u001b[1m250/250\u001b[0m \u001b[32m━━━━━━━━━━━━━━━━━━━━\u001b[0m\u001b[37m\u001b[0m \u001b[1m10s\u001b[0m 39ms/step - loss: 1.8075 - mae: 1.0943 - val_loss: 1.3438 - val_mae: 0.9489\n",
      "Epoch 24/50\n",
      "\u001b[1m250/250\u001b[0m \u001b[32m━━━━━━━━━━━━━━━━━━━━\u001b[0m\u001b[37m\u001b[0m \u001b[1m9s\u001b[0m 35ms/step - loss: 1.8396 - mae: 1.1074 - val_loss: 1.2826 - val_mae: 0.9180\n",
      "Epoch 25/50\n",
      "\u001b[1m250/250\u001b[0m \u001b[32m━━━━━━━━━━━━━━━━━━━━\u001b[0m\u001b[37m\u001b[0m \u001b[1m9s\u001b[0m 35ms/step - loss: 1.8470 - mae: 1.1132 - val_loss: 1.5252 - val_mae: 1.0646\n",
      "Epoch 26/50\n",
      "\u001b[1m250/250\u001b[0m \u001b[32m━━━━━━━━━━━━━━━━━━━━\u001b[0m\u001b[37m\u001b[0m \u001b[1m11s\u001b[0m 42ms/step - loss: 1.8170 - mae: 1.1025 - val_loss: 1.3586 - val_mae: 0.9719\n",
      "Epoch 27/50\n",
      "\u001b[1m250/250\u001b[0m \u001b[32m━━━━━━━━━━━━━━━━━━━━\u001b[0m\u001b[37m\u001b[0m \u001b[1m10s\u001b[0m 38ms/step - loss: 1.8245 - mae: 1.1088 - val_loss: 1.3290 - val_mae: 0.9461\n",
      "Epoch 28/50\n",
      "\u001b[1m250/250\u001b[0m \u001b[32m━━━━━━━━━━━━━━━━━━━━\u001b[0m\u001b[37m\u001b[0m \u001b[1m10s\u001b[0m 38ms/step - loss: 1.8063 - mae: 1.0954 - val_loss: 1.3605 - val_mae: 0.9653\n",
      "Epoch 29/50\n",
      "\u001b[1m250/250\u001b[0m \u001b[32m━━━━━━━━━━━━━━━━━━━━\u001b[0m\u001b[37m\u001b[0m \u001b[1m11s\u001b[0m 44ms/step - loss: 1.7870 - mae: 1.0888 - val_loss: 1.3381 - val_mae: 0.9594\n",
      "Epoch 30/50\n",
      "\u001b[1m250/250\u001b[0m \u001b[32m━━━━━━━━━━━━━━━━━━━━\u001b[0m\u001b[37m\u001b[0m \u001b[1m12s\u001b[0m 46ms/step - loss: 1.8365 - mae: 1.1034 - val_loss: 1.3037 - val_mae: 0.9239\n",
      "Epoch 31/50\n",
      "\u001b[1m250/250\u001b[0m \u001b[32m━━━━━━━━━━━━━━━━━━━━\u001b[0m\u001b[37m\u001b[0m \u001b[1m10s\u001b[0m 40ms/step - loss: 1.8450 - mae: 1.1100 - val_loss: 1.4456 - val_mae: 1.0238\n",
      "Epoch 32/50\n",
      "\u001b[1m250/250\u001b[0m \u001b[32m━━━━━━━━━━━━━━━━━━━━\u001b[0m\u001b[37m\u001b[0m \u001b[1m13s\u001b[0m 51ms/step - loss: 1.8376 - mae: 1.1136 - val_loss: 1.3342 - val_mae: 0.9373\n",
      "Epoch 33/50\n",
      "\u001b[1m250/250\u001b[0m \u001b[32m━━━━━━━━━━━━━━━━━━━━\u001b[0m\u001b[37m\u001b[0m \u001b[1m10s\u001b[0m 39ms/step - loss: 1.8157 - mae: 1.1003 - val_loss: 1.2814 - val_mae: 0.9144\n",
      "Epoch 34/50\n",
      "\u001b[1m250/250\u001b[0m \u001b[32m━━━━━━━━━━━━━━━━━━━━\u001b[0m\u001b[37m\u001b[0m \u001b[1m12s\u001b[0m 46ms/step - loss: 1.8683 - mae: 1.1161 - val_loss: 1.3005 - val_mae: 0.9300\n",
      "Epoch 35/50\n",
      "\u001b[1m250/250\u001b[0m \u001b[32m━━━━━━━━━━━━━━━━━━━━\u001b[0m\u001b[37m\u001b[0m \u001b[1m12s\u001b[0m 47ms/step - loss: 1.8694 - mae: 1.1154 - val_loss: 1.3867 - val_mae: 0.9787\n",
      "Epoch 36/50\n",
      "\u001b[1m250/250\u001b[0m \u001b[32m━━━━━━━━━━━━━━━━━━━━\u001b[0m\u001b[37m\u001b[0m \u001b[1m10s\u001b[0m 39ms/step - loss: 1.8371 - mae: 1.1136 - val_loss: 1.3588 - val_mae: 0.9730\n",
      "Epoch 37/50\n",
      "\u001b[1m250/250\u001b[0m \u001b[32m━━━━━━━━━━━━━━━━━━━━\u001b[0m\u001b[37m\u001b[0m \u001b[1m10s\u001b[0m 38ms/step - loss: 1.9078 - mae: 1.1389 - val_loss: 1.3569 - val_mae: 0.9580\n",
      "Epoch 38/50\n",
      "\u001b[1m250/250\u001b[0m \u001b[32m━━━━━━━━━━━━━━━━━━━━\u001b[0m\u001b[37m\u001b[0m \u001b[1m10s\u001b[0m 39ms/step - loss: 1.7834 - mae: 1.0907 - val_loss: 1.3293 - val_mae: 0.9388\n",
      "Epoch 39/50\n",
      "\u001b[1m250/250\u001b[0m \u001b[32m━━━━━━━━━━━━━━━━━━━━\u001b[0m\u001b[37m\u001b[0m \u001b[1m11s\u001b[0m 44ms/step - loss: 1.8388 - mae: 1.1093 - val_loss: 1.3056 - val_mae: 0.9256\n",
      "Epoch 40/50\n",
      "\u001b[1m250/250\u001b[0m \u001b[32m━━━━━━━━━━━━━━━━━━━━\u001b[0m\u001b[37m\u001b[0m \u001b[1m9s\u001b[0m 37ms/step - loss: 1.8237 - mae: 1.1049 - val_loss: 1.3339 - val_mae: 0.9458\n",
      "Epoch 41/50\n",
      "\u001b[1m250/250\u001b[0m \u001b[32m━━━━━━━━━━━━━━━━━━━━\u001b[0m\u001b[37m\u001b[0m \u001b[1m9s\u001b[0m 36ms/step - loss: 1.8528 - mae: 1.1181 - val_loss: 1.2670 - val_mae: 0.9026\n",
      "Epoch 42/50\n",
      "\u001b[1m250/250\u001b[0m \u001b[32m━━━━━━━━━━━━━━━━━━━━\u001b[0m\u001b[37m\u001b[0m \u001b[1m9s\u001b[0m 36ms/step - loss: 1.7645 - mae: 1.0807 - val_loss: 1.3287 - val_mae: 0.9467\n",
      "Epoch 43/50\n",
      "\u001b[1m250/250\u001b[0m \u001b[32m━━━━━━━━━━━━━━━━━━━━\u001b[0m\u001b[37m\u001b[0m \u001b[1m9s\u001b[0m 36ms/step - loss: 1.8058 - mae: 1.0921 - val_loss: 1.3605 - val_mae: 0.9649\n",
      "Epoch 44/50\n",
      "\u001b[1m250/250\u001b[0m \u001b[32m━━━━━━━━━━━━━━━━━━━━\u001b[0m\u001b[37m\u001b[0m \u001b[1m9s\u001b[0m 37ms/step - loss: 1.8050 - mae: 1.1000 - val_loss: 1.2650 - val_mae: 0.9072\n",
      "Epoch 45/50\n",
      "\u001b[1m250/250\u001b[0m \u001b[32m━━━━━━━━━━━━━━━━━━━━\u001b[0m\u001b[37m\u001b[0m \u001b[1m9s\u001b[0m 36ms/step - loss: 1.8147 - mae: 1.0994 - val_loss: 1.3000 - val_mae: 0.9217\n",
      "Epoch 46/50\n",
      "\u001b[1m250/250\u001b[0m \u001b[32m━━━━━━━━━━━━━━━━━━━━\u001b[0m\u001b[37m\u001b[0m \u001b[1m9s\u001b[0m 38ms/step - loss: 1.8144 - mae: 1.0992 - val_loss: 1.3667 - val_mae: 0.9690\n",
      "Epoch 47/50\n",
      "\u001b[1m250/250\u001b[0m \u001b[32m━━━━━━━━━━━━━━━━━━━━\u001b[0m\u001b[37m\u001b[0m \u001b[1m9s\u001b[0m 37ms/step - loss: 1.8653 - mae: 1.1212 - val_loss: 1.3246 - val_mae: 0.9352\n",
      "Epoch 48/50\n",
      "\u001b[1m250/250\u001b[0m \u001b[32m━━━━━━━━━━━━━━━━━━━━\u001b[0m\u001b[37m\u001b[0m \u001b[1m9s\u001b[0m 36ms/step - loss: 1.7827 - mae: 1.0853 - val_loss: 1.3198 - val_mae: 0.9505\n",
      "Epoch 49/50\n",
      "\u001b[1m250/250\u001b[0m \u001b[32m━━━━━━━━━━━━━━━━━━━━\u001b[0m\u001b[37m\u001b[0m \u001b[1m9s\u001b[0m 37ms/step - loss: 1.8250 - mae: 1.1038 - val_loss: 1.3079 - val_mae: 0.9213\n",
      "Epoch 50/50\n",
      "\u001b[1m250/250\u001b[0m \u001b[32m━━━━━━━━━━━━━━━━━━━━\u001b[0m\u001b[37m\u001b[0m \u001b[1m9s\u001b[0m 36ms/step - loss: 1.8414 - mae: 1.1096 - val_loss: 1.2996 - val_mae: 0.9333\n"
     ]
    }
   ],
   "source": [
    "history = model.fit({'text_input': text_sequences, 'title_input': title_sequences}, df['rating'], epochs=50, batch_size=32, validation_split=0.2)"
   ]
  },
  {
   "cell_type": "code",
   "execution_count": 29,
   "metadata": {},
   "outputs": [
    {
     "data": {
      "image/png": "[encoded data removed]",
      "text/plain": [
       "<Figure size 640x480 with 1 Axes>"
      ]
     },
     "metadata": {},
     "output_type": "display_data"
    }
   ],
   "source": [
    "import matplotlib.pyplot as plt\n",
    "\n",
    "# Plot training & validation loss values\n",
    "plt.plot(history.history['loss'])\n",
    "plt.plot(history.history['val_loss'])\n",
    "plt.title('Model loss')\n",
    "plt.ylabel('Loss')\n",
    "plt.xlabel('Epoch')\n",
    "plt.legend(['Train', 'Validation'], loc='upper left')\n",
    "plt.show()"
   ]
  },
  {
   "cell_type": "code",
   "execution_count": 31,
   "metadata": {},
   "outputs": [
    {
     "name": "stdout",
     "output_type": "stream",
     "text": [
      "\u001b[1m1/1\u001b[0m \u001b[32m━━━━━━━━━━━━━━━━━━━━\u001b[0m\u001b[37m\u001b[0m \u001b[1m0s\u001b[0m 30ms/step\n",
      "[[4.5160003]\n",
      " [4.389019 ]]\n"
     ]
    }
   ],
   "source": [
    "# Define new review data\n",
    "new_reviews = [\n",
    "    {'text': 'The flight was very comfortable and the staff were extremely friendly.', 'title': 'Great Flight'},\n",
    "    {'text': 'The plane was delayed and the service was not good.', 'title': 'Bad Experience'}\n",
    "]\n",
    "\n",
    "# Preprocess the new review data\n",
    "new_reviews_df = pd.DataFrame(new_reviews)\n",
    "new_reviews_df['cleaned_text'] = new_reviews_df['text'].apply(preprocess_text)\n",
    "new_reviews_df['cleaned_title'] = new_reviews_df['title'].apply(preprocess_text)\n",
    "\n",
    "new_text_sequences = prepare_text(new_reviews_df, 'cleaned_text', tokenizer, max_length_text)\n",
    "new_title_sequences = prepare_text(new_reviews_df, 'cleaned_title', tokenizer, max_length_title)\n",
    "\n",
    "# Make predictions\n",
    "predictions = model.predict({'text_input': new_text_sequences, 'title_input': new_title_sequences})\n",
    "print(predictions)\n"
   ]
  },
  {
   "cell_type": "code",
   "execution_count": 32,
   "metadata": {},
   "outputs": [
    {
     "name": "stdout",
     "output_type": "stream",
     "text": [
      "Epoch 1/10\n",
      "\u001b[1m250/250\u001b[0m \u001b[32m━━━━━━━━━━━━━━━━━━━━\u001b[0m\u001b[37m\u001b[0m \u001b[1m15s\u001b[0m 36ms/step - loss: 1.8134 - mae: 1.1027 - val_loss: 1.3134 - val_mae: 0.9365\n",
      "Epoch 2/10\n",
      "\u001b[1m250/250\u001b[0m \u001b[32m━━━━━━━━━━━━━━━━━━━━\u001b[0m\u001b[37m\u001b[0m \u001b[1m9s\u001b[0m 34ms/step - loss: 1.8171 - mae: 1.0975 - val_loss: 1.3360 - val_mae: 0.9518\n",
      "Epoch 3/10\n",
      "\u001b[1m250/250\u001b[0m \u001b[32m━━━━━━━━━━━━━━━━━━━━\u001b[0m\u001b[37m\u001b[0m \u001b[1m8s\u001b[0m 32ms/step - loss: 1.7752 - mae: 1.0903 - val_loss: 1.3431 - val_mae: 0.9546\n",
      "Epoch 4/10\n",
      "\u001b[1m250/250\u001b[0m \u001b[32m━━━━━━━━━━━━━━━━━━━━\u001b[0m\u001b[37m\u001b[0m \u001b[1m9s\u001b[0m 36ms/step - loss: 1.8067 - mae: 1.1048 - val_loss: 1.3132 - val_mae: 0.9326\n",
      "Epoch 5/10\n",
      "\u001b[1m250/250\u001b[0m \u001b[32m━━━━━━━━━━━━━━━━━━━━\u001b[0m\u001b[37m\u001b[0m \u001b[1m9s\u001b[0m 36ms/step - loss: 1.8098 - mae: 1.0984 - val_loss: 1.3220 - val_mae: 0.9386\n",
      "Epoch 6/10\n",
      "\u001b[1m250/250\u001b[0m \u001b[32m━━━━━━━━━━━━━━━━━━━━\u001b[0m\u001b[37m\u001b[0m \u001b[1m9s\u001b[0m 34ms/step - loss: 1.8084 - mae: 1.0980 - val_loss: 1.3462 - val_mae: 0.9562\n",
      "Epoch 7/10\n",
      "\u001b[1m250/250\u001b[0m \u001b[32m━━━━━━━━━━━━━━━━━━━━\u001b[0m\u001b[37m\u001b[0m \u001b[1m10s\u001b[0m 39ms/step - loss: 1.8033 - mae: 1.0962 - val_loss: 1.3323 - val_mae: 0.9458\n",
      "Epoch 8/10\n",
      "\u001b[1m250/250\u001b[0m \u001b[32m━━━━━━━━━━━━━━━━━━━━\u001b[0m\u001b[37m\u001b[0m \u001b[1m10s\u001b[0m 38ms/step - loss: 1.7980 - mae: 1.0883 - val_loss: 1.3268 - val_mae: 0.9429\n",
      "Epoch 9/10\n",
      "\u001b[1m250/250\u001b[0m \u001b[32m━━━━━━━━━━━━━━━━━━━━\u001b[0m\u001b[37m\u001b[0m \u001b[1m10s\u001b[0m 41ms/step - loss: 1.7918 - mae: 1.0950 - val_loss: 1.3170 - val_mae: 0.9353\n",
      "Epoch 10/10\n",
      "\u001b[1m250/250\u001b[0m \u001b[32m━━━━━━━━━━━━━━━━━━━━\u001b[0m\u001b[37m\u001b[0m \u001b[1m9s\u001b[0m 35ms/step - loss: 1.8203 - mae: 1.0976 - val_loss: 1.3238 - val_mae: 0.9401\n"
     ]
    }
   ],
   "source": [
    "from tensorflow.keras.optimizers import Adam\n",
    "\n",
    "# Compile the model with a different learning rate\n",
    "model.compile(optimizer=Adam(learning_rate=0.0001), loss='mse', metrics=['mae'])\n",
    "\n",
    "# Train the model again\n",
    "history = model.fit({'text_input': text_sequences, 'title_input': title_sequences}, df['rating'], epochs=10, batch_size=32, validation_split=0.2)\n"
   ]
  },
  {
   "cell_type": "code",
   "execution_count": 35,
   "metadata": {},
   "outputs": [
    {
     "name": "stdout",
     "output_type": "stream",
     "text": [
      "\u001b[1m1/1\u001b[0m \u001b[32m━━━━━━━━━━━━━━━━━━━━\u001b[0m\u001b[37m\u001b[0m \u001b[1m0s\u001b[0m 30ms/step\n",
      "[[4.2624054]\n",
      " [4.4299154]]\n"
     ]
    }
   ],
   "source": [
    "# Define new review data\n",
    "new_reviews = [\n",
    "    {'text': 'The flight was very comfortable and the staff were extremely friendly.', 'title': 'Great '},\n",
    "    {'text': 'bad.', 'title': 'Bad Experience'}\n",
    "]\n",
    "\n",
    "# Preprocess the new review data\n",
    "new_reviews_df = pd.DataFrame(new_reviews)\n",
    "new_reviews_df['cleaned_text'] = new_reviews_df['text'].apply(preprocess_text)\n",
    "new_reviews_df['cleaned_title'] = new_reviews_df['title'].apply(preprocess_text)\n",
    "\n",
    "new_text_sequences = prepare_text(new_reviews_df, 'cleaned_text', tokenizer, max_length_text)\n",
    "new_title_sequences = prepare_text(new_reviews_df, 'cleaned_title', tokenizer, max_length_title)\n",
    "\n",
    "# Make predictions\n",
    "predictions = model.predict({'text_input': new_text_sequences, 'title_input': new_title_sequences})\n",
    "print(predictions)"
   ]
  }
 ],
 "metadata": {
  "kernelspec": {
   "display_name": "Python 3",
   "language": "python",
   "name": "python3"
  },
  "language_info": {
   "codemirror_mode": {
    "name": "ipython",
    "version": 3
   },
   "file_extension": ".py",
   "mimetype": "text/x-python",
   "name": "python",
   "nbconvert_exporter": "python",
   "pygments_lexer": "ipython3",
   "version": "3.11.2"
  },
  "orig_nbformat": 4
 },
 "nbformat": 4,
 "nbformat_minor": 2
}
